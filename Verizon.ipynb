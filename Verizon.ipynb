{
 "cells": [
  {
   "cell_type": "code",
   "execution_count": 5,
   "metadata": {},
   "outputs": [],
   "source": [
    "import numpy as np\n",
    "import matplotlib.pyplot as plt\n",
    "import pandas as pd\n",
    "import seaborn as sns"
   ]
  },
  {
   "cell_type": "code",
   "execution_count": 7,
   "metadata": {},
   "outputs": [],
   "source": [
    "df = pd.read_csv('Verizon.csv')"
   ]
  },
  {
   "cell_type": "code",
   "execution_count": 9,
   "metadata": {},
   "outputs": [
    {
     "data": {
      "text/html": [
       "<div>\n",
       "<style scoped>\n",
       "    .dataframe tbody tr th:only-of-type {\n",
       "        vertical-align: middle;\n",
       "    }\n",
       "\n",
       "    .dataframe tbody tr th {\n",
       "        vertical-align: top;\n",
       "    }\n",
       "\n",
       "    .dataframe thead th {\n",
       "        text-align: right;\n",
       "    }\n",
       "</style>\n",
       "<table border=\"1\" class=\"dataframe\">\n",
       "  <thead>\n",
       "    <tr style=\"text-align: right;\">\n",
       "      <th></th>\n",
       "      <th>year</th>\n",
       "      <th>month</th>\n",
       "      <th>day</th>\n",
       "      <th>price</th>\n",
       "      <th>downpmt</th>\n",
       "      <th>monthdue</th>\n",
       "      <th>payment_left</th>\n",
       "      <th>monthly_payment</th>\n",
       "      <th>pmttype</th>\n",
       "      <th>credit_score</th>\n",
       "      <th>age</th>\n",
       "      <th>gender</th>\n",
       "      <th>default</th>\n",
       "    </tr>\n",
       "  </thead>\n",
       "  <tbody>\n",
       "    <tr>\n",
       "      <th>0</th>\n",
       "      <td>2020</td>\n",
       "      <td>1</td>\n",
       "      <td>12</td>\n",
       "      <td>2178.85</td>\n",
       "      <td>250.00</td>\n",
       "      <td>6.0</td>\n",
       "      <td>1928.85</td>\n",
       "      <td>321.475000</td>\n",
       "      <td>4</td>\n",
       "      <td>1</td>\n",
       "      <td>0</td>\n",
       "      <td>2</td>\n",
       "      <td>0</td>\n",
       "    </tr>\n",
       "    <tr>\n",
       "      <th>1</th>\n",
       "      <td>2020</td>\n",
       "      <td>6</td>\n",
       "      <td>15</td>\n",
       "      <td>1543.65</td>\n",
       "      <td>1543.65</td>\n",
       "      <td>6.0</td>\n",
       "      <td>0.00</td>\n",
       "      <td>0.000000</td>\n",
       "      <td>1</td>\n",
       "      <td>0</td>\n",
       "      <td>0</td>\n",
       "      <td>2</td>\n",
       "      <td>0</td>\n",
       "    </tr>\n",
       "    <tr>\n",
       "      <th>2</th>\n",
       "      <td>2020</td>\n",
       "      <td>4</td>\n",
       "      <td>19</td>\n",
       "      <td>1107.67</td>\n",
       "      <td>125.00</td>\n",
       "      <td>5.0</td>\n",
       "      <td>982.67</td>\n",
       "      <td>196.534000</td>\n",
       "      <td>1</td>\n",
       "      <td>0</td>\n",
       "      <td>0</td>\n",
       "      <td>2</td>\n",
       "      <td>0</td>\n",
       "    </tr>\n",
       "    <tr>\n",
       "      <th>3</th>\n",
       "      <td>2020</td>\n",
       "      <td>3</td>\n",
       "      <td>17</td>\n",
       "      <td>950.44</td>\n",
       "      <td>237.61</td>\n",
       "      <td>9.0</td>\n",
       "      <td>712.83</td>\n",
       "      <td>79.203333</td>\n",
       "      <td>5</td>\n",
       "      <td>0</td>\n",
       "      <td>0</td>\n",
       "      <td>1</td>\n",
       "      <td>0</td>\n",
       "    </tr>\n",
       "    <tr>\n",
       "      <th>4</th>\n",
       "      <td>2020</td>\n",
       "      <td>8</td>\n",
       "      <td>21</td>\n",
       "      <td>1436.00</td>\n",
       "      <td>250.00</td>\n",
       "      <td>9.0</td>\n",
       "      <td>1186.00</td>\n",
       "      <td>131.777778</td>\n",
       "      <td>3</td>\n",
       "      <td>0</td>\n",
       "      <td>0</td>\n",
       "      <td>2</td>\n",
       "      <td>0</td>\n",
       "    </tr>\n",
       "  </tbody>\n",
       "</table>\n",
       "</div>"
      ],
      "text/plain": [
       "   year  month  day    price  downpmt  monthdue  payment_left  \\\n",
       "0  2020      1   12  2178.85   250.00       6.0       1928.85   \n",
       "1  2020      6   15  1543.65  1543.65       6.0          0.00   \n",
       "2  2020      4   19  1107.67   125.00       5.0        982.67   \n",
       "3  2020      3   17   950.44   237.61       9.0        712.83   \n",
       "4  2020      8   21  1436.00   250.00       9.0       1186.00   \n",
       "\n",
       "   monthly_payment  pmttype  credit_score  age  gender  default  \n",
       "0       321.475000        4             1    0       2        0  \n",
       "1         0.000000        1             0    0       2        0  \n",
       "2       196.534000        1             0    0       2        0  \n",
       "3        79.203333        5             0    0       1        0  \n",
       "4       131.777778        3             0    0       2        0  "
      ]
     },
     "execution_count": 9,
     "metadata": {},
     "output_type": "execute_result"
    }
   ],
   "source": [
    "df.head()"
   ]
  },
  {
   "cell_type": "code",
   "execution_count": 11,
   "metadata": {},
   "outputs": [
    {
     "name": "stdout",
     "output_type": "stream",
     "text": [
      "<class 'pandas.core.frame.DataFrame'>\n",
      "RangeIndex: 24833 entries, 0 to 24832\n",
      "Data columns (total 13 columns):\n",
      " #   Column           Non-Null Count  Dtype  \n",
      "---  ------           --------------  -----  \n",
      " 0   year             24833 non-null  int64  \n",
      " 1   month            24833 non-null  int64  \n",
      " 2   day              24833 non-null  int64  \n",
      " 3   price            24833 non-null  float64\n",
      " 4   downpmt          24833 non-null  float64\n",
      " 5   monthdue         24833 non-null  float64\n",
      " 6   payment_left     24833 non-null  float64\n",
      " 7   monthly_payment  24833 non-null  float64\n",
      " 8   pmttype          24833 non-null  int64  \n",
      " 9   credit_score     24833 non-null  int64  \n",
      " 10  age              24833 non-null  int64  \n",
      " 11  gender           24833 non-null  int64  \n",
      " 12  default          24833 non-null  int64  \n",
      "dtypes: float64(5), int64(8)\n",
      "memory usage: 2.5 MB\n"
     ]
    }
   ],
   "source": [
    "df.info()"
   ]
  },
  {
   "cell_type": "code",
   "execution_count": null,
   "metadata": {},
   "outputs": [],
   "source": [
    "df.describe()"
   ]
  },
  {
   "cell_type": "code",
   "execution_count": null,
   "metadata": {},
   "outputs": [],
   "source": [
    "plt.figure(figsize=(8,6))\n",
    "sns.heatmap(df.isnull())"
   ]
  },
  {
   "cell_type": "code",
   "execution_count": null,
   "metadata": {},
   "outputs": [],
   "source": [
    "plt.figure(figsize=(6,6))\n",
    "sns.countplot(df['default'])\n",
    "plt.xlabel('default')\n",
    "plt.ylabel('Count')"
   ]
  },
  {
   "cell_type": "code",
   "execution_count": null,
   "metadata": {},
   "outputs": [],
   "source": [
    "# Default by gender\n",
    "plt.figure(figsize=(6,6))\n",
    "df_default = df[df['default']==1]\n",
    "sns.countplot(df_default['gender'])\n",
    "plt.xlabel('gender')\n",
    "plt.ylabel('Count')"
   ]
  },
  {
   "cell_type": "code",
   "execution_count": null,
   "metadata": {},
   "outputs": [],
   "source": [
    "# Default by payment\n",
    "plt.figure(figsize=(6,6))\n",
    "df_default = df[df['default']==1]\n",
    "sns.countplot(df_default['pmttype'])\n",
    "plt.xlabel('payment type')\n",
    "plt.ylabel('Count')"
   ]
  },
  {
   "cell_type": "code",
   "execution_count": null,
   "metadata": {},
   "outputs": [],
   "source": [
    "# Default by age\n",
    "plt.figure(figsize=(10,6))\n",
    "sns.histplot(data = df, x = \"age\", kde = True, hue = \"default\")\n",
    "plt.xlabel('age')\n",
    "plt.ylabel('Count')"
   ]
  },
  {
   "cell_type": "code",
   "execution_count": null,
   "metadata": {},
   "outputs": [],
   "source": [
    "# Default by down payment\n",
    "plt.figure(figsize=(14,6))\n",
    "sns.histplot(data = df, x = \"downpmt\", kde = True, hue = \"default\")\n",
    "plt.xlabel('downpmt')\n",
    "plt.ylabel('Count')"
   ]
  },
  {
   "cell_type": "code",
   "execution_count": null,
   "metadata": {},
   "outputs": [],
   "source": [
    "# Default by credit score\n",
    "plt.figure(figsize=(10,6))\n",
    "sns.histplot(data = df, x = \"credit_score\", kde = True, hue = \"default\")\n",
    "plt.xlabel('credit_score')\n",
    "plt.ylabel('Count')"
   ]
  },
  {
   "cell_type": "code",
   "execution_count": null,
   "metadata": {},
   "outputs": [],
   "source": [
    "# Default by price\n",
    "plt.figure(figsize=(10,6))\n",
    "sns.histplot(data = df, x = \"price\", kde = True, hue = \"default\")\n",
    "plt.xlabel('price')\n",
    "plt.ylabel('Count')\n",
    "plt.show()"
   ]
  },
  {
   "cell_type": "code",
   "execution_count": null,
   "metadata": {},
   "outputs": [],
   "source": [
    "fig = plt.figure(figsize = (15, 10));\n",
    "ax = fig.gca();\n",
    "df.hist(ax = ax, color = 'maroon')"
   ]
  },
  {
   "cell_type": "code",
   "execution_count": null,
   "metadata": {},
   "outputs": [],
   "source": [
    "sns.set(font_scale = 1.2)\n",
    "f, ax = plt.subplots(figsize = (10, 8))\n",
    "ax.set_xticklabels(ax.get_xmajorticklabels(), fontsize = 18)\n",
    "ax.set_yticklabels(ax.get_ymajorticklabels(), fontsize = 18)\n",
    "sns.heatmap(df[['price', 'downpmt', 'monthdue', 'age']].corr(), annot = True, \n",
    "            linewidths = 0.5, fmt = '.1f', ax = ax, cmap = 'magma_r')"
   ]
  },
  {
   "cell_type": "code",
   "execution_count": 13,
   "metadata": {},
   "outputs": [
    {
     "data": {
      "text/plain": [
       "Index(['year', 'month', 'day', 'price', 'downpmt', 'monthdue', 'payment_left',\n",
       "       'monthly_payment', 'pmttype', 'credit_score', 'age', 'gender',\n",
       "       'default'],\n",
       "      dtype='object')"
      ]
     },
     "execution_count": 13,
     "metadata": {},
     "output_type": "execute_result"
    }
   ],
   "source": [
    "df.columns"
   ]
  },
  {
   "cell_type": "code",
   "execution_count": 15,
   "metadata": {},
   "outputs": [],
   "source": [
    "X = df.drop(columns=['default'])"
   ]
  },
  {
   "cell_type": "code",
   "execution_count": 17,
   "metadata": {},
   "outputs": [],
   "source": [
    "y = df['default']"
   ]
  },
  {
   "cell_type": "code",
   "execution_count": 19,
   "metadata": {},
   "outputs": [],
   "source": [
    "from sklearn.model_selection import train_test_split\n",
    "X_train, X_test, y_train, y_test = train_test_split(X, y, test_size=0.4, random_state=42)"
   ]
  },
  {
   "cell_type": "code",
   "execution_count": 21,
   "metadata": {},
   "outputs": [],
   "source": [
    "from sklearn.preprocessing import StandardScaler\n",
    "scaler = StandardScaler()\n",
    "scaler.fit(X_train)\n",
    "X_train_scaled = scaler.transform(X_train)\n",
    "X_test_scaled = scaler.transform(X_test)"
   ]
  },
  {
   "cell_type": "code",
   "execution_count": 23,
   "metadata": {},
   "outputs": [],
   "source": [
    "from sklearn.linear_model import LogisticRegression\n",
    "lr = LogisticRegression(random_state=42)\n",
    "lr.fit(X_train_scaled, y_train)\n",
    "y_pred_lr = lr.predict(X_test_scaled)"
   ]
  },
  {
   "cell_type": "code",
   "execution_count": 25,
   "metadata": {},
   "outputs": [],
   "source": [
    "from sklearn.metrics import confusion_matrix\n",
    "from sklearn.metrics import classification_report"
   ]
  },
  {
   "cell_type": "code",
   "execution_count": 27,
   "metadata": {},
   "outputs": [
    {
     "name": "stdout",
     "output_type": "stream",
     "text": [
      "\n",
      "Confusion Matrix for Logistic Regression Model:\n",
      "\n",
      " [[8464  308]\n",
      " [ 644  518]]\n",
      "\n",
      "Classification Report for Logistic Regression Model:\n",
      "\n",
      "               precision    recall  f1-score   support\n",
      "\n",
      "           0       0.93      0.96      0.95      8772\n",
      "           1       0.63      0.45      0.52      1162\n",
      "\n",
      "    accuracy                           0.90      9934\n",
      "   macro avg       0.78      0.71      0.73      9934\n",
      "weighted avg       0.89      0.90      0.90      9934\n",
      "\n"
     ]
    }
   ],
   "source": [
    "print(\"\\nConfusion Matrix for Logistic Regression Model:\\n\\n\", confusion_matrix(y_test, y_pred_lr))\n",
    "print(\"\\nClassification Report for Logistic Regression Model:\\n\\n\", classification_report(y_test, y_pred_lr))"
   ]
  },
  {
   "cell_type": "code",
   "execution_count": 29,
   "metadata": {},
   "outputs": [],
   "source": [
    "from sklearn.ensemble import RandomForestClassifier\n",
    "rf = RandomForestClassifier(random_state=42)\n",
    "rf.fit(X_train, y_train)\n",
    "y_pred_rf = rf.predict(X_test)"
   ]
  },
  {
   "cell_type": "code",
   "execution_count": 31,
   "metadata": {},
   "outputs": [
    {
     "name": "stdout",
     "output_type": "stream",
     "text": [
      "\n",
      "Confusion Matrix for Random Forest Model:\n",
      "\n",
      " [[8493  279]\n",
      " [ 584  578]]\n",
      "\n",
      "Classification Report for Random Forest Model:\n",
      "\n",
      "               precision    recall  f1-score   support\n",
      "\n",
      "           0       0.94      0.97      0.95      8772\n",
      "           1       0.67      0.50      0.57      1162\n",
      "\n",
      "    accuracy                           0.91      9934\n",
      "   macro avg       0.81      0.73      0.76      9934\n",
      "weighted avg       0.91      0.91      0.91      9934\n",
      "\n"
     ]
    }
   ],
   "source": [
    "print(\"\\nConfusion Matrix for Random Forest Model:\\n\\n\", confusion_matrix(y_test, y_pred_rf))\n",
    "print(\"\\nClassification Report for Random Forest Model:\\n\\n\", classification_report(y_test, y_pred_rf))"
   ]
  },
  {
   "cell_type": "code",
   "execution_count": 33,
   "metadata": {},
   "outputs": [
    {
     "data": {
      "image/png": "[encoded data removed]",
      "text/plain": [
       "<Figure size 640x480 with 1 Axes>"
      ]
     },
     "metadata": {},
     "output_type": "display_data"
    }
   ],
   "source": [
    "features = X.columns\n",
    "importances = rf.feature_importances_\n",
    "indices = np.argsort(importances)\n",
    "\n",
    "plt.title('Feature Importances')\n",
    "plt.barh(range(len(indices)), importances[indices], color='b', align='center')\n",
    "plt.yticks(range(len(indices)), [features[i] for i in indices])\n",
    "plt.xlabel('Relative Importance')\n",
    "plt.show()"
   ]
  }
 ],
 "metadata": {
  "kernelspec": {
   "display_name": "Python 3 (ipykernel)",
   "language": "python",
   "name": "python3"
  },
  "language_info": {
   "codemirror_mode": {
    "name": "ipython",
    "version": 3
   },
   "file_extension": ".py",
   "mimetype": "text/x-python",
   "name": "python",
   "nbconvert_exporter": "python",
   "pygments_lexer": "ipython3",
   "version": "3.12.4"
  }
 },
 "nbformat": 4,
 "nbformat_minor": 4
}
